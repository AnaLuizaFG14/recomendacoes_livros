{
 "cells": [
  {
   "cell_type": "code",
   "execution_count": 2,
   "id": "2e239f9f",
   "metadata": {},
   "outputs": [
    {
     "name": "stderr",
     "output_type": "stream",
     "text": [
      "[nltk_data] Downloading package punkt_tab to\n",
      "[nltk_data]     C:\\Users\\nikot\\AppData\\Roaming\\nltk_data...\n",
      "[nltk_data]   Package punkt_tab is already up-to-date!\n",
      "[nltk_data] Downloading package stopwords to\n",
      "[nltk_data]     C:\\Users\\nikot\\AppData\\Roaming\\nltk_data...\n",
      "[nltk_data]   Package stopwords is already up-to-date!\n"
     ]
    },
    {
     "data": {
      "text/plain": [
       "True"
      ]
     },
     "execution_count": 2,
     "metadata": {},
     "output_type": "execute_result"
    }
   ],
   "source": [
    "import pandas as pd\n",
    "import customtkinter as ctk\n",
    "import nltk\n",
    "import string\n",
    "from nltk.corpus import stopwords\n",
    "from nltk.tokenize import word_tokenize\n",
    "\n",
    "nltk.download(\"punkt_tab\")\n",
    "nltk.download(\"stopwords\")"
   ]
  },
  {
   "cell_type": "code",
   "execution_count": 3,
   "id": "d3b0746c",
   "metadata": {},
   "outputs": [],
   "source": [
    "def tratamento_texto(texto):\n",
    "    texto = str(texto).lower()\n",
    "    texto = texto.translate(str.maketrans('', '', string.punctuation))\n",
    "    tokens = word_tokenize(texto)\n",
    "    stop_words = set(stopwords.words(\"english\"))\n",
    "    tokens = [palavra for palavra in tokens if palavra not in stop_words]\n",
    "    return ' '.join(tokens)"
   ]
  },
  {
   "cell_type": "code",
   "execution_count": 4,
   "id": "333cd341",
   "metadata": {},
   "outputs": [],
   "source": [
    "df = pd.read_csv(\"livros.csv\")"
   ]
  },
  {
   "cell_type": "code",
   "execution_count": 5,
   "id": "d9013d5c",
   "metadata": {},
   "outputs": [],
   "source": [
    "df[\"descricao_trat\"] = df[\"descricao\"].apply(tratamento_texto)"
   ]
  },
  {
   "cell_type": "code",
   "execution_count": 6,
   "id": "414e8eff",
   "metadata": {},
   "outputs": [],
   "source": [
    "df.to_csv(\"livros.csv\")"
   ]
  }
 ],
 "metadata": {
  "kernelspec": {
   "display_name": "Python 3",
   "language": "python",
   "name": "python3"
  },
  "language_info": {
   "codemirror_mode": {
    "name": "ipython",
    "version": 3
   },
   "file_extension": ".py",
   "mimetype": "text/x-python",
   "name": "python",
   "nbconvert_exporter": "python",
   "pygments_lexer": "ipython3",
   "version": "3.12.3"
  }
 },
 "nbformat": 4,
 "nbformat_minor": 5
}
